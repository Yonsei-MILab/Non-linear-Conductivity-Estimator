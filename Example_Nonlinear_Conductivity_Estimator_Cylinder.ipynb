{
 "cells": [
  {
   "cell_type": "code",
   "execution_count": 2,
   "id": "bd43c9c3",
   "metadata": {},
   "outputs": [],
   "source": [
    "import torch\n",
    "import torch.nn as nn\n",
    "import torch.optim as optim\n",
    "import torch.nn.functional as F\n",
    "from torch.utils.data import Dataset,DataLoader\n",
    "from scipy import io\n",
    "import math\n",
    "from tqdm import tqdm\n",
    "import numpy as np\n",
    "import matplotlib.pyplot as plt\n",
    "import torchvision\n",
    "import torchvision.transforms as transforms\n",
    "import torch.nn.functional as F\n",
    "import torch.optim as optim\n",
    "import os\n",
    "import pdb"
   ]
  },
  {
   "cell_type": "code",
   "execution_count": 3,
   "id": "d5948b94",
   "metadata": {},
   "outputs": [],
   "source": [
    "# Specify which GPU to be used\n",
    "device = torch.device('cuda:0')"
   ]
  },
  {
   "cell_type": "code",
   "execution_count": 4,
   "id": "62bd4c7e",
   "metadata": {},
   "outputs": [],
   "source": [
    "# Load training dataset\n",
    "dataset = io.loadmat('Data/Cylinder_Training_Dataset.mat')\n",
    "training_syn_dataset = torch.tensor(dataset['dataset_training'])\n",
    "training_syn_dataset = np.expand_dims(training_syn_dataset,1)\n",
    "training_syn_dataset = torch.tensor(training_syn_dataset)\n",
    "\n",
    "training_mask = torch.tensor(dataset['dataset_mask'])\n",
    "training_mask = np.expand_dims(training_mask,1)\n",
    "training_mask = torch.tensor(training_mask)\n",
    "\n",
    "\n",
    "training_label = torch.tensor(dataset['dataset_label'])\n",
    "training_label = np.expand_dims(training_label,1)\n",
    "training_label = torch.tensor(training_label)"
   ]
  },
  {
   "cell_type": "code",
   "execution_count": 5,
   "id": "8534c66d",
   "metadata": {},
   "outputs": [],
   "source": [
    "# Patch the training dataset 11 by 11\n",
    "kernel_h, kernel_w = 11, 11\n",
    "step, n_channels = 1, 1\n",
    "training_syn_dataset_patch = np.array(training_syn_dataset.unfold(2, kernel_h, step).unfold(3, kernel_w, step).permute(2, 3, 0, 1, 4, 5).reshape(-1, n_channels, kernel_h, kernel_w))\n",
    "\n",
    "training_mask_patch = np.array(training_mask.unfold(2, kernel_h, step).unfold(3, kernel_w, step).permute(2, 3, 0, 1, 4, 5).reshape(-1, n_channels, kernel_h, kernel_w))\n",
    "\n",
    "training_label_patch = training_label.unfold(2, kernel_h, step).unfold(3, kernel_w, step).permute(2, 3, 0, 1, 4, 5).reshape(-1, n_channels, kernel_h, kernel_w)\n",
    "training_label_patch = np.array(training_label_patch[:,:,5,5])"
   ]
  },
  {
   "cell_type": "code",
   "execution_count": 6,
   "id": "34c00f86",
   "metadata": {},
   "outputs": [],
   "source": [
    "from numba import jit\n",
    "\n",
    "@jit(nopython=True)        \n",
    "def add_noise(x):\n",
    "    noise = np.random.normal(0,0.013,x.shape)\n",
    "    return x+noise\n",
    "\n",
    "@jit(nopython=True)        \n",
    "def add_bias(x, nor_factor):\n",
    "    bias = nor_factor*np.abs(x+(0.1*np.random.rand(1)))*np.exp(1j*np.angle(x))\n",
    "    return bias\n",
    "\n",
    "@jit(nopython=True)        \n",
    "def add_noise_to_complex(x,y):\n",
    "    z = (add_noise(np.real(x))+1j*add_noise(np.imag(x)))*y\n",
    "    return z    \n",
    "\n",
    "@jit(nopython=True)        \n",
    "def combine_final(x,y):\n",
    "    nor_factor = (1.3-0.7)*np.random.rand(1)+ 0.7\n",
    "    xx = add_noise_to_complex(add_bias(x,nor_factor), y)\n",
    "    z = np.concatenate(((np.abs(xx)/nor_factor)*y, ((np.angle(xx)/2) - np.min((np.angle(xx)/2)))*y),0)\n",
    "    return z    "
   ]
  },
  {
   "cell_type": "code",
   "execution_count": 7,
   "id": "b0434204",
   "metadata": {},
   "outputs": [],
   "source": [
    "class Custom_dataset(Dataset):\n",
    "    def __init__(self,training_syn_dataset_patch):\n",
    "        self.training_syn_dataset_patch = (training_syn_dataset_patch)\n",
    "        self.training_mask_patch = (training_mask_patch)\n",
    "\n",
    "    def __len__(self):\n",
    "        \n",
    "   \n",
    "        return len(self.training_syn_dataset_patch)\n",
    "    \n",
    "               \n",
    "    def __getitem__(self,idx):\n",
    "        x = combine_final(self.training_syn_dataset_patch[idx], training_mask_patch[idx])\n",
    "        y = training_label_patch[idx] \n",
    "        return x,y\n",
    "\n",
    "dataset = Custom_dataset(training_syn_dataset_patch)\n",
    "dataloader = DataLoader(dataset,batch_size= 100000,shuffle=True)"
   ]
  },
  {
   "cell_type": "code",
   "execution_count": 8,
   "id": "3217615b",
   "metadata": {},
   "outputs": [
    {
     "name": "stdout",
     "output_type": "stream",
     "text": [
      "EPT_Model(\n",
      "  (fc): Sequential(\n",
      "    (0): Linear(in_features=242, out_features=1024, bias=True)\n",
      "    (1): BatchNorm1d(1024, eps=1e-05, momentum=0.1, affine=True, track_running_stats=True)\n",
      "    (2): ReLU()\n",
      "    (3): Dropout(p=0.4, inplace=False)\n",
      "    (4): Linear(in_features=1024, out_features=512, bias=True)\n",
      "    (5): BatchNorm1d(512, eps=1e-05, momentum=0.1, affine=True, track_running_stats=True)\n",
      "    (6): ReLU()\n",
      "    (7): Dropout(p=0.4, inplace=False)\n",
      "    (8): Linear(in_features=512, out_features=512, bias=True)\n",
      "    (9): BatchNorm1d(512, eps=1e-05, momentum=0.1, affine=True, track_running_stats=True)\n",
      "    (10): ReLU()\n",
      "    (11): Dropout(p=0.4, inplace=False)\n",
      "    (12): Linear(in_features=512, out_features=1, bias=True)\n",
      "    (13): Sigmoid()\n",
      "  )\n",
      ")\n"
     ]
    }
   ],
   "source": [
    "# Network\n",
    "class EPT_Model(nn.Module):\n",
    "    def __init__(self):\n",
    "        super(EPT_Model, self).__init__()     \n",
    "        self.fc = nn.Sequential(\n",
    "            nn.Linear(242, 1024),\n",
    "            nn.BatchNorm1d(1024),\n",
    "            nn.ReLU(),\n",
    "            nn.Dropout(0.4),\n",
    "            nn.Linear(1024, 512),\n",
    "            nn.BatchNorm1d(512),\n",
    "            nn.ReLU(),\n",
    "            nn.Dropout(0.4),\n",
    "            nn.Linear(512, 512),\n",
    "            nn.BatchNorm1d(512),\n",
    "            nn.ReLU(),\n",
    "            nn.Dropout(0.4),\n",
    "            nn.Linear(512, 1),\n",
    "            nn.Sigmoid()\n",
    "        )\n",
    "            \n",
    "    def forward(self,x):\n",
    "        return self.fc(x.view(-1,242))\n",
    "    \n",
    "model = EPT_Model().to(device)\n",
    "print(model)"
   ]
  },
  {
   "cell_type": "code",
   "execution_count": 9,
   "id": "5c67f7c4",
   "metadata": {},
   "outputs": [],
   "source": [
    "# Loss function\n",
    "criterion = nn.MSELoss()\n",
    "\n",
    "# Optimizer\n",
    "optimizer = torch.optim.Adam(model.parameters(), lr=0.0001)\n",
    "\n",
    "\n",
    "loss_function = []\n",
    "dir_checkpoint = 'Training_loss/'"
   ]
  },
  {
   "cell_type": "code",
   "execution_count": 10,
   "id": "587349a2",
   "metadata": {},
   "outputs": [],
   "source": [
    "# Specify the Training Epoch\n",
    "max_epochs = 150"
   ]
  },
  {
   "cell_type": "code",
   "execution_count": 11,
   "id": "0667b347",
   "metadata": {
    "scrolled": true
   },
   "outputs": [
    {
     "name": "stderr",
     "output_type": "stream",
     "text": [
      "100%|████████████████████████████████████████████████████████████████████████████████| 150/150 [58:27<00:00, 23.38s/it]\n"
     ]
    }
   ],
   "source": [
    "for epoch in tqdm(range(max_epochs)):\n",
    "    total_loss = 0\n",
    "    model.train()\n",
    "    \n",
    "    for x,y in dataloader:        \n",
    "        optimizer.zero_grad()\n",
    "        output = 2*model(x.to(device).float())\n",
    "        loss = criterion(output,y.to(device).float())\n",
    "        loss.backward()\n",
    "        optimizer.step()\n",
    "        total_loss = total_loss + loss.item()*x.size(0)/len(dataloader.dataset)\n",
    "    loss_function.append(total_loss)\n",
    "    \n",
    "    if (epoch+1) % 10 == 0:\n",
    "        try:\n",
    "            os.mkdir(dir_checkpoint)\n",
    "        except OSError:\n",
    "            pass\n",
    "        torch.save(model.state_dict(), dir_checkpoint + f'Cylinder_Example_Epoch__{epoch + 1}.pth')"
   ]
  },
  {
   "cell_type": "code",
   "execution_count": 12,
   "id": "cf76596f",
   "metadata": {},
   "outputs": [
    {
     "name": "stdout",
     "output_type": "stream",
     "text": [
      "EPT_Model(\n",
      "  (fc): Sequential(\n",
      "    (0): Linear(in_features=242, out_features=1024, bias=True)\n",
      "    (1): BatchNorm1d(1024, eps=1e-05, momentum=0.1, affine=True, track_running_stats=True)\n",
      "    (2): ReLU()\n",
      "    (3): Dropout(p=0, inplace=False)\n",
      "    (4): Linear(in_features=1024, out_features=512, bias=True)\n",
      "    (5): BatchNorm1d(512, eps=1e-05, momentum=0.1, affine=True, track_running_stats=True)\n",
      "    (6): ReLU()\n",
      "    (7): Dropout(p=0, inplace=False)\n",
      "    (8): Linear(in_features=512, out_features=512, bias=True)\n",
      "    (9): BatchNorm1d(512, eps=1e-05, momentum=0.1, affine=True, track_running_stats=True)\n",
      "    (10): ReLU()\n",
      "    (11): Dropout(p=0, inplace=False)\n",
      "    (12): Linear(in_features=512, out_features=1, bias=True)\n",
      "    (13): Sigmoid()\n",
      "  )\n",
      ")\n"
     ]
    }
   ],
   "source": [
    "# Network\n",
    "class EPT_Model(nn.Module):\n",
    "    def __init__(self):\n",
    "        super(EPT_Model, self).__init__()     \n",
    "        self.fc = nn.Sequential(\n",
    "            nn.Linear(242, 1024),\n",
    "            nn.BatchNorm1d(1024),\n",
    "            nn.ReLU(),\n",
    "            nn.Dropout(0),\n",
    "            nn.Linear(1024, 512),\n",
    "            nn.BatchNorm1d(512),\n",
    "            nn.ReLU(),\n",
    "            nn.Dropout(0),\n",
    "            nn.Linear(512, 512),\n",
    "            nn.BatchNorm1d(512),\n",
    "            nn.ReLU(),\n",
    "            nn.Dropout(0),\n",
    "            nn.Linear(512, 1),\n",
    "            nn.Sigmoid()\n",
    "        )\n",
    "            \n",
    "    def forward(self,x):\n",
    "        return self.fc(x.view(-1,242))\n",
    "    \n",
    "model = EPT_Model().cpu()\n",
    "print(model)"
   ]
  },
  {
   "cell_type": "code",
   "execution_count": 13,
   "id": "c77fbb30",
   "metadata": {},
   "outputs": [
    {
     "data": {
      "text/plain": [
       "<All keys matched successfully>"
      ]
     },
     "execution_count": 13,
     "metadata": {},
     "output_type": "execute_result"
    }
   ],
   "source": [
    "model.load_state_dict(torch.load(\"Training_loss/Cylinder_Example_Epoch__150.pth\"))"
   ]
  },
  {
   "cell_type": "code",
   "execution_count": 14,
   "id": "e7382cff",
   "metadata": {},
   "outputs": [],
   "source": [
    "#Load test dataset\n",
    "dataset = io.loadmat('Data/Cylinder_Test_Dataset.mat')\n",
    "testing_dataset = torch.tensor(dataset['dataset_test'])\n",
    "testing_dataset = np.expand_dims(testing_dataset,1)\n",
    "testing_dataset = np.array(testing_dataset)\n",
    "\n",
    "testing_mask = torch.tensor(dataset['dataset_mask_test'])\n",
    "testing_mask = np.expand_dims(testing_mask,1)\n",
    "testing_mask = np.array(testing_mask)\n",
    "\n",
    "testing_GTC = torch.tensor(dataset['dataset_label_test'])\n",
    "testing_GTC = torch.squeeze(testing_GTC).unsqueeze(-1)\n",
    "\n",
    "testing_dataset = torch.tensor(add_noise_to_complex(testing_dataset,testing_mask))\n",
    "testing_mask = torch.tensor(testing_mask)\n",
    "\n",
    "testing_mask_inner = torch.tensor(dataset['dataset_Mask_Inner'])\n",
    "testing_mask_inner = torch.squeeze(testing_mask_inner).unsqueeze(-1)\n",
    "\n",
    "testing_mask_outer = torch.tensor(dataset['dataset_Mask_Outer'])\n",
    "testing_mask_outer = torch.squeeze(testing_mask_outer).unsqueeze(-1)"
   ]
  },
  {
   "cell_type": "code",
   "execution_count": 15,
   "id": "b7dc25b7",
   "metadata": {},
   "outputs": [],
   "source": [
    "# Patch the dataset 11 by 11\n",
    "kernel_h, kernel_w = 11, 11\n",
    "step, n_channels = 1, 1\n",
    "testing_dataset_patch = np.array(testing_dataset.unfold(2, kernel_h, step).unfold(3, kernel_w, step).permute(2, 3, 0, 1, 4, 5).reshape(-1, n_channels, kernel_h, kernel_w))\n",
    "testing_mask_patch = np.array(testing_mask.unfold(2, kernel_h, step).unfold(3, kernel_w, step).permute(2, 3, 0, 1, 4, 5).reshape(-1, n_channels, kernel_h, kernel_w))\n",
    "testing_dataset_patch_magnitude = np.abs(testing_dataset_patch)\n",
    "testing_dataset_patch_angle = np.angle(testing_dataset_patch)"
   ]
  },
  {
   "cell_type": "code",
   "execution_count": 16,
   "id": "c133997d",
   "metadata": {},
   "outputs": [],
   "source": [
    "#Phase Normalization\n",
    "[az,ch,ax,ay]=testing_dataset_patch_angle.shape\n",
    "testing_dataset_patch_angle_norm = np.zeros_like(testing_dataset_patch_angle)\n",
    "for sslice in range(az):\n",
    "    testing_dataset_patch_angle_norm[sslice] = np.squeeze(testing_dataset_patch_angle[sslice,:,:,:]/2 - np.min(testing_dataset_patch_angle[sslice,:,:,:]/2))"
   ]
  },
  {
   "cell_type": "code",
   "execution_count": 17,
   "id": "b7e584a5",
   "metadata": {},
   "outputs": [],
   "source": [
    "# Compose the input data\n",
    "testing_dataset_patch_magnitude = testing_dataset_patch_magnitude * testing_mask_patch\n",
    "testing_dataset_patch_angle_norm = testing_dataset_patch_angle_norm * testing_mask_patch\n",
    "\n",
    "# Convert numpy arrays to PyTorch tensors\n",
    "testing_dataset_patch_magnitude_tensor = torch.tensor(testing_dataset_patch_magnitude)\n",
    "testing_dataset_patch_angle_norm_tensor = torch.tensor(testing_dataset_patch_angle_norm)\n",
    "\n",
    "# Concatenate tensors along dimension 1\n",
    "testing_dataset_norm = torch.cat((testing_dataset_patch_magnitude_tensor, testing_dataset_patch_angle_norm_tensor), 1)"
   ]
  },
  {
   "cell_type": "code",
   "execution_count": 18,
   "id": "a956dbcb",
   "metadata": {},
   "outputs": [],
   "source": [
    "#Test the input data on the network\n",
    "result = 2*model(testing_dataset_norm.float())\n",
    "result = torch.reshape(result, (118, 118, 1)).squeeze()\n",
    "result = F.pad(result, (5, 5, 5, 5), mode='constant', value=0).unsqueeze(-1)"
   ]
  },
  {
   "cell_type": "code",
   "execution_count": 19,
   "id": "17ed3357",
   "metadata": {},
   "outputs": [],
   "source": [
    "#Functions to compute mean & std values for mask information\n",
    "\n",
    "def masked_mean(input, mask_inf):\n",
    "    mask = mask_inf == 1\n",
    "    masked_tensor = torch.masked_select(input, mask)\n",
    "    mean_value = masked_tensor.mean()\n",
    "    return mean_value\n",
    "\n",
    "def masked_std(input, mask_inf):\n",
    "    mask = mask_inf == 1\n",
    "    masked_tensor = torch.masked_select(input, mask)\n",
    "    std_value = masked_tensor.std()\n",
    "    return std_value"
   ]
  },
  {
   "cell_type": "code",
   "execution_count": 20,
   "id": "ec6dbb7b",
   "metadata": {},
   "outputs": [
    {
     "data": {
      "image/png": "[encoded data removed]",
      "text/plain": [
       "<Figure size 864x576 with 12 Axes>"
      ]
     },
     "metadata": {
      "needs_background": "light"
     },
     "output_type": "display_data"
    }
   ],
   "source": [
    "%matplotlib inline\n",
    "import matplotlib.pyplot as plt\n",
    "\n",
    "fig, axes = plt.subplots(nrows=2, ncols=3, figsize=(12, 8))\n",
    "fig.subplots_adjust(hspace=0.5)\n",
    "\n",
    "detached_result = result.clone().detach()\n",
    "testing_mask_figure = torch.squeeze(testing_mask).unsqueeze(-1)\n",
    "\n",
    "#Evaluate the result (Mean & std values for each mask information)\n",
    "mean_value_inner_DL = masked_mean(detached_result, testing_mask_inner)\n",
    "std_value_inner_DL = masked_std(detached_result, testing_mask_inner)\n",
    "mean_value_inner_GTC = masked_mean(testing_GTC, testing_mask_inner)\n",
    "std_value_inner_GTC = masked_std(testing_GTC, testing_mask_inner)\n",
    "\n",
    "mean_value_outer_DL = masked_mean(detached_result, testing_mask_outer)\n",
    "std_value_outer_DL = masked_std(detached_result, testing_mask_outer)\n",
    "mean_value_outer_GTC = masked_mean(testing_GTC, testing_mask_outer)\n",
    "std_value_outer_GTC = masked_std(testing_GTC, testing_mask_outer)\n",
    "\n",
    "\n",
    "image1 = axes[0, 0].imshow(torch.abs(torch.squeeze(testing_dataset)), cmap='gray', vmin=0, vmax=1)\n",
    "axes[0, 0].axis('off')\n",
    "axes[0, 0].set_title('T2-w Magnitude\\n[a.u.]')\n",
    "bar1 = plt.colorbar(image1, ax=axes[0, 0])\n",
    "\n",
    "image2 = axes[0, 1].imshow(torch.angle(torch.squeeze(testing_dataset)), cmap='jet', vmin=-3, vmax=0)\n",
    "axes[0, 1].axis('off')\n",
    "axes[0, 1].set_title('Transceive Phase\\n[rad.]')\n",
    "bar2 = plt.colorbar(image2, ax=axes[0, 1])\n",
    "\n",
    "image3 = axes[0, 2].imshow((testing_GTC), cmap='jet', vmin=-0.5, vmax=3)\n",
    "axes[0, 2].axis('off')\n",
    "axes[0, 2].set_title('Ground-truth Conductivity\\n[S/m]')\n",
    "bar3 = plt.colorbar(image3, ax=axes[0, 2])\n",
    "axes[0, 2].text(0.5, -0.15, \"Mean (std) for Inner mask: {:.2f} ({:.2f}) [S/m]\".format(mean_value_inner_GTC, std_value_inner_GTC), fontsize=9, ha='center', va='bottom', transform=axes[0, 2].transAxes)\n",
    "axes[0, 2].text(0.5, -0.25, \"Mean (std) for Outer mask: {:.2f} ({:.2f}) [S/m]\".format(mean_value_outer_GTC, std_value_outer_GTC), fontsize=9, ha='center', va='bottom', transform=axes[0, 2].transAxes)\n",
    "\n",
    "image4 = axes[1, 0].imshow((testing_mask_inner), cmap='gray', vmin=0, vmax=1)\n",
    "axes[1, 0].axis('off')\n",
    "axes[1, 0].set_title('Inner Mask')\n",
    "bar4 = plt.colorbar(image4, ax=axes[1, 0])\n",
    "\n",
    "image5 = axes[1, 1].imshow((testing_mask_outer), cmap='gray', vmin=0, vmax=1)\n",
    "axes[1, 1].axis('off')\n",
    "axes[1, 1].set_title('Outer Mask')\n",
    "bar5 = plt.colorbar(image5, ax=axes[1, 1])\n",
    "\n",
    "image6 = axes[1, 2].imshow((detached_result), cmap='jet', vmin=-0.5, vmax=3)\n",
    "axes[1, 2].axis('off')\n",
    "axes[1, 2].set_title('DL Result\\n[S/m]')\n",
    "bar6 = plt.colorbar(image6, ax=axes[1, 2])\n",
    "axes[1, 2].text(0.5, -0.15, \"Mean (std) for Inner mask: {:.2f} ({:.2f}) [S/m]\".format(mean_value_inner_DL, std_value_inner_DL), fontsize=9, ha='center', va='bottom', transform=axes[1, 2].transAxes)\n",
    "axes[1, 2].text(0.5, -0.25, \"Mean (std) for Inner mask: {:.2f} ({:.2f}) [S/m]\".format(mean_value_outer_DL, std_value_outer_DL), fontsize=9, ha='center', va='bottom', transform=axes[1, 2].transAxes);"
   ]
  }
 ],
 "metadata": {
  "kernelspec": {
   "display_name": "Python 3",
   "language": "python",
   "name": "python3"
  },
  "language_info": {
   "codemirror_mode": {
    "name": "ipython",
    "version": 3
   },
   "file_extension": ".py",
   "mimetype": "text/x-python",
   "name": "python",
   "nbconvert_exporter": "python",
   "pygments_lexer": "ipython3",
   "version": "3.8.8"
  }
 },
 "nbformat": 4,
 "nbformat_minor": 5
}
